{
 "cells": [
  {
   "cell_type": "code",
   "execution_count": 2,
   "id": "a69f50f1-8ce6-4c5a-b4f2-c73d8c2e8fa4",
   "metadata": {},
   "outputs": [],
   "source": [
    "class Employee(): # creating the class\n",
    "     pass"
   ]
  },
  {
   "cell_type": "code",
   "execution_count": 3,
   "id": "1a76f68f-d108-4003-987d-c2af17120c6a",
   "metadata": {},
   "outputs": [],
   "source": [
    "emp1=Employee()  #crating an instance of a class\n",
    "emp2=Employee()"
   ]
  },
  {
   "cell_type": "code",
   "execution_count": 4,
   "id": "58993ed1-f96e-4ab5-a4ca-ae36b77362f7",
   "metadata": {},
   "outputs": [
    {
     "name": "stdout",
     "output_type": "stream",
     "text": [
      "<__main__.Employee object at 0x0000009C4FAC1610>\n",
      "<__main__.Employee object at 0x0000009C4FAC2450>\n"
     ]
    }
   ],
   "source": [
    "print(emp1)\n",
    "print(emp2)"
   ]
  },
  {
   "cell_type": "code",
   "execution_count": 5,
   "id": "d256d8d3-43bf-4847-8805-1432e98a6435",
   "metadata": {},
   "outputs": [],
   "source": [
    "#instance variables\n",
    "emp1.first='Shraddha'\n",
    "emp1.last='Ugale'\n",
    "emp1.salary=51000\n",
    "\n",
    "emp2.first='pooja'\n",
    "emp2.last='patil'\n",
    "emp2.salary=52000"
   ]
  },
  {
   "cell_type": "code",
   "execution_count": 6,
   "id": "9e3dc9e1-afdc-4800-bfe3-4b4567fe3260",
   "metadata": {},
   "outputs": [
    {
     "name": "stdout",
     "output_type": "stream",
     "text": [
      "Shraddha\n"
     ]
    }
   ],
   "source": [
    "print(emp1.first)"
   ]
  },
  {
   "cell_type": "code",
   "execution_count": 9,
   "id": "7b96a5e9-957a-4990-b3e2-a338811aee6b",
   "metadata": {},
   "outputs": [
    {
     "name": "stdout",
     "output_type": "stream",
     "text": [
      "51000\n"
     ]
    }
   ],
   "source": [
    "print(emp1.salary)"
   ]
  },
  {
   "cell_type": "code",
   "execution_count": 32,
   "id": "945395b4-a548-4ac6-9824-eea107d585f9",
   "metadata": {},
   "outputs": [],
   "source": [
    "class Employee():\n",
    "    def __init__(self,first,last,salary):\n",
    "        self.first=first\n",
    "        self.last=last\n",
    "        self.salary=salary\n",
    "        \n",
    "    def show(self):\n",
    "        print(self.first +' ' + 'ok')"
   ]
  },
  {
   "cell_type": "code",
   "execution_count": 33,
   "id": "ba651373-b968-427a-a739-398a92828f5f",
   "metadata": {},
   "outputs": [],
   "source": [
    "emp1=Employee('raj','sharma',48000)"
   ]
  },
  {
   "cell_type": "code",
   "execution_count": 34,
   "id": "bca29edd-190b-4f23-904d-2d18be88c04c",
   "metadata": {},
   "outputs": [
    {
     "name": "stdout",
     "output_type": "stream",
     "text": [
      "raj\n"
     ]
    }
   ],
   "source": [
    "print(emp1.first)"
   ]
  },
  {
   "cell_type": "code",
   "execution_count": 35,
   "id": "9c1051d2-96c5-4ae6-9cae-bf93ca69b8b3",
   "metadata": {},
   "outputs": [],
   "source": [
    "emp2=Employee('Ajay','patil',48000)"
   ]
  },
  {
   "cell_type": "code",
   "execution_count": 36,
   "id": "6fc38f2f-24f6-4e4c-9470-e7284f555338",
   "metadata": {},
   "outputs": [
    {
     "name": "stdout",
     "output_type": "stream",
     "text": [
      "raj\n"
     ]
    }
   ],
   "source": [
    "print(emp1.first)"
   ]
  },
  {
   "cell_type": "code",
   "execution_count": 38,
   "id": "9ff52655-c9e5-4983-9a98-5a1b56953854",
   "metadata": {},
   "outputs": [
    {
     "name": "stdout",
     "output_type": "stream",
     "text": [
      "raj ok\n"
     ]
    }
   ],
   "source": [
    "emp1.show()"
   ]
  },
  {
   "cell_type": "code",
   "execution_count": 51,
   "id": "d52b1fec-84d0-4728-9606-096309e55a60",
   "metadata": {},
   "outputs": [],
   "source": [
    "class Employee():\n",
    "    def __init__(self,first,last,salary):\n",
    "        self.first=first\n",
    "        self.last=last\n",
    "        self.__salary=salary\n",
    "        \n",
    "    def show(self):\n",
    "        print(self.first +' ' + 'ok')"
   ]
  },
  {
   "cell_type": "code",
   "execution_count": 52,
   "id": "523ad9fc-3a68-4657-93ae-eaef31320135",
   "metadata": {},
   "outputs": [],
   "source": [
    "emp1=Employee('raj','sharma',48000)\n",
    "emp2=Employee('Ajay','patil',48000)"
   ]
  },
  {
   "cell_type": "code",
   "execution_count": 48,
   "id": "3ef32305-e52a-43b6-92c1-d4e92afb4829",
   "metadata": {},
   "outputs": [
    {
     "name": "stdout",
     "output_type": "stream",
     "text": [
      "raj\n"
     ]
    }
   ],
   "source": [
    "print(emp1.first)"
   ]
  },
  {
   "cell_type": "code",
   "execution_count": 53,
   "id": "092970c2-61c0-424f-8bc4-26449d7fe416",
   "metadata": {},
   "outputs": [],
   "source": [
    "class Employee():\n",
    "    def __init__(self,first,last,salary):\n",
    "        self.first=first\n",
    "        self.last=last\n",
    "        self.__salary=salary\n",
    "        \n",
    "    def show(self):\n",
    "        print(self.__salary)"
   ]
  },
  {
   "cell_type": "code",
   "execution_count": 54,
   "id": "bb2ab325-5c72-46bb-8c47-04e533816e25",
   "metadata": {},
   "outputs": [],
   "source": [
    "emp1=Employee('raj','sharma',48000)\n",
    "emp2=Employee('Ajay','patil',48000)"
   ]
  },
  {
   "cell_type": "code",
   "execution_count": 55,
   "id": "2f8a8cd2-52b2-40e3-a78d-dec8311b867b",
   "metadata": {},
   "outputs": [
    {
     "name": "stdout",
     "output_type": "stream",
     "text": [
      "48000\n"
     ]
    }
   ],
   "source": [
    "emp1.show()"
   ]
  },
  {
   "cell_type": "code",
   "execution_count": 56,
   "id": "134d4633-3802-468f-b1e2-395cb1869990",
   "metadata": {},
   "outputs": [],
   "source": [
    "#Inheritance\n",
    "\n",
    "class Emp2(Employee):\n",
    "     pass"
   ]
  },
  {
   "cell_type": "code",
   "execution_count": 58,
   "id": "c5d85b46-3a16-4752-a291-b0d3733b28bf",
   "metadata": {},
   "outputs": [],
   "source": [
    "emp3=Emp2('Neha','kulkarni',55000)"
   ]
  },
  {
   "cell_type": "code",
   "execution_count": 59,
   "id": "900b2e9a-6c54-450f-9577-09440a68549e",
   "metadata": {},
   "outputs": [
    {
     "name": "stdout",
     "output_type": "stream",
     "text": [
      "55000\n"
     ]
    }
   ],
   "source": [
    "emp3.show()"
   ]
  },
  {
   "cell_type": "code",
   "execution_count": 81,
   "id": "22b184fa-1ba9-46e0-a876-577b1d1ab34d",
   "metadata": {},
   "outputs": [],
   "source": [
    "'''\n",
    "create a class called person attributes=>\n",
    "name,age,city,....(make use of default parameters also)\n",
    "crate a method which will show all of the info if person\n",
    "'''\n",
    "\n",
    "\n",
    "class person():\n",
    "    def __init__(self,name,age,city):\n",
    "        self.name=name\n",
    "        self.age=age\n",
    "        self.city=city\n",
    "        \n",
    "    def dis(self):\n",
    "        print(self.age)"
   ]
  },
  {
   "cell_type": "code",
   "execution_count": 83,
   "id": "cb948ba9-7462-468e-8faf-a33cb1d427fb",
   "metadata": {},
   "outputs": [],
   "source": [
    "p1=person('raj',23,'Nashik')\n",
    "p2=person('Ajay',18,'Pune')"
   ]
  },
  {
   "cell_type": "code",
   "execution_count": 84,
   "id": "f214f78f-ce27-43f5-8f0f-63e7e4b2f2ce",
   "metadata": {},
   "outputs": [
    {
     "name": "stdout",
     "output_type": "stream",
     "text": [
      "23\n"
     ]
    }
   ],
   "source": [
    "p1.dis()"
   ]
  },
  {
   "cell_type": "code",
   "execution_count": 87,
   "id": "b2bb68f5-5973-45db-9f36-dd50095cc5a1",
   "metadata": {},
   "outputs": [],
   "source": [
    "'''\n",
    "create a class called person attributes=>\n",
    "name,age,city,....(make use of default parameters also)\n",
    "crate a method which will show all of the info if person\n",
    "'''\n",
    "\n",
    "\n",
    "class person():\n",
    "    def __init__(self,n,a=25):\n",
    "        self.name=n\n",
    "        self.age=a\n",
    "    \n",
    "        \n",
    "    def di(self):\n",
    "        print(self.name)\n",
    "        print(self.age)"
   ]
  },
  {
   "cell_type": "code",
   "execution_count": 89,
   "id": "dac46225-8d94-4714-a220-15edbaac6e64",
   "metadata": {},
   "outputs": [
    {
     "ename": "NameError",
     "evalue": "name 'age' is not defined",
     "output_type": "error",
     "traceback": [
      "\u001b[1;31m---------------------------------------------------------------------------\u001b[0m",
      "\u001b[1;31mNameError\u001b[0m                                 Traceback (most recent call last)",
      "Cell \u001b[1;32mIn[89], line 1\u001b[0m\n\u001b[1;32m----> 1\u001b[0m p1\u001b[38;5;241m=\u001b[39mperson(\u001b[38;5;124m'\u001b[39m\u001b[38;5;124mraj\u001b[39m\u001b[38;5;124m'\u001b[39m,age)\n\u001b[0;32m      2\u001b[0m p2\u001b[38;5;241m=\u001b[39mperson(\u001b[38;5;124m'\u001b[39m\u001b[38;5;124mAjay\u001b[39m\u001b[38;5;124m'\u001b[39m,a)\n",
      "\u001b[1;31mNameError\u001b[0m: name 'age' is not defined"
     ]
    }
   ],
   "source": [
    "p1=person('raj',age)\n",
    "p2=person('Ajay',a)"
   ]
  },
  {
   "cell_type": "code",
   "execution_count": 86,
   "id": "18a5d23e-1355-42c6-a331-c1f215db96bd",
   "metadata": {},
   "outputs": [
    {
     "name": "stdout",
     "output_type": "stream",
     "text": [
      "23\n"
     ]
    }
   ],
   "source": [
    "p1.dis()"
   ]
  },
  {
   "cell_type": "code",
   "execution_count": 95,
   "id": "ca976c95-a1d0-489e-824b-0f2c34548925",
   "metadata": {},
   "outputs": [],
   "source": [
    "import tkinter as tk"
   ]
  },
  {
   "cell_type": "code",
   "execution_count": 124,
   "id": "ad04e87b-4aa4-4a58-98be-d5f119a68002",
   "metadata": {},
   "outputs": [
    {
     "ename": "AttributeError",
     "evalue": "module 'tkinter' has no attribute 'Lable'",
     "output_type": "error",
     "traceback": [
      "\u001b[1;31m---------------------------------------------------------------------------\u001b[0m",
      "\u001b[1;31mAttributeError\u001b[0m                            Traceback (most recent call last)",
      "Cell \u001b[1;32mIn[124], line 7\u001b[0m\n\u001b[0;32m      5\u001b[0m e1\u001b[38;5;241m=\u001b[39mtk\u001b[38;5;241m.\u001b[39mEntry(top)\u001b[38;5;241m.\u001b[39mgrid(column\u001b[38;5;241m=\u001b[39m\u001b[38;5;241m1\u001b[39m,row\u001b[38;5;241m=\u001b[39m\u001b[38;5;241m2\u001b[39m)\n\u001b[0;32m      6\u001b[0m t1\u001b[38;5;241m=\u001b[39mtk\u001b[38;5;241m.\u001b[39mText(top)\u001b[38;5;241m.\u001b[39mgrid(column\u001b[38;5;241m=\u001b[39m\u001b[38;5;241m2\u001b[39m,row\u001b[38;5;241m=\u001b[39m\u001b[38;5;241m2\u001b[39m)\n\u001b[1;32m----> 7\u001b[0m l1\u001b[38;5;241m=\u001b[39mtk\u001b[38;5;241m.\u001b[39mLable(top,text\u001b[38;5;241m=\u001b[39m\u001b[38;5;124m'\u001b[39m\u001b[38;5;124mWelcome\u001b[39m\u001b[38;5;124m'\u001b[39m,font \u001b[38;5;241m=\u001b[39m(\u001b[38;5;124m'\u001b[39m\u001b[38;5;124mAriel Bold\u001b[39m\u001b[38;5;124m'\u001b[39m,\u001b[38;5;241m50\u001b[39m))\u001b[38;5;241m.\u001b[39mgrid(column\u001b[38;5;241m=\u001b[39m\u001b[38;5;241m2\u001b[39m,row\u001b[38;5;241m=\u001b[39m\u001b[38;5;241m3\u001b[39m)\n\u001b[0;32m      8\u001b[0m top\u001b[38;5;241m.\u001b[39mmainloop()\n",
      "\u001b[1;31mAttributeError\u001b[0m: module 'tkinter' has no attribute 'Lable'"
     ]
    }
   ],
   "source": [
    "top=tk.Tk()\n",
    "top.title('My Application')\n",
    "top.geometry('500x400')\n",
    "b1=tk.Button(top,text='Click me !!!',bg='blue').grid(column=0,row=1)\n",
    "e1=tk.Entry(top).grid(column=1,row=2)\n",
    "t1=tk.Text(top).grid(column=2,row=2)\n",
    "l1=tk.Lable(top,text='Welcome',font =('Ariel Bold',50)).grid(column=2,row=3)\n",
    "top.mainloop()"
   ]
  },
  {
   "cell_type": "code",
   "execution_count": null,
   "id": "9a3ee6b0-a38b-49ba-97ee-2c395f2c2105",
   "metadata": {},
   "outputs": [],
   "source": []
  },
  {
   "cell_type": "code",
   "execution_count": null,
   "id": "635f43eb-1dcf-4aa4-b9ff-bb090b6eff43",
   "metadata": {},
   "outputs": [],
   "source": []
  }
 ],
 "metadata": {
  "kernelspec": {
   "display_name": "Python 3 (ipykernel)",
   "language": "python",
   "name": "python3"
  },
  "language_info": {
   "codemirror_mode": {
    "name": "ipython",
    "version": 3
   },
   "file_extension": ".py",
   "mimetype": "text/x-python",
   "name": "python",
   "nbconvert_exporter": "python",
   "pygments_lexer": "ipython3",
   "version": "3.11.7"
  }
 },
 "nbformat": 4,
 "nbformat_minor": 5
}
