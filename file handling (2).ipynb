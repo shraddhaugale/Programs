{
 "cells": [
  {
   "cell_type": "code",
   "execution_count": 27,
   "id": "5261403f-2746-41f6-a1d3-91ac0df9e89a",
   "metadata": {},
   "outputs": [
    {
     "name": "stdout",
     "output_type": "stream",
     "text": [
      "Nashik is the third largest city of Maharashtra after Mumbai & Pune. Nashik lies in the northern part of Maharashtra state at 700 m (2,300 ft) from the mean sea level which gives it ideal temperature variation, particularly in winters. Nashik lies at altitude of 700m above sea level and has lush mountainous terrain\n"
     ]
    }
   ],
   "source": [
    "f=open('nashik.txt','r')\n",
    "for line in f:\n",
    "    print(line)\n"
   ]
  },
  {
   "cell_type": "code",
   "execution_count": 10,
   "id": "f0f38c73-5acb-444c-bb23-e5a32a41970d",
   "metadata": {},
   "outputs": [
    {
     "name": "stdout",
     "output_type": "stream",
     "text": [
      "nashik.txt\n"
     ]
    }
   ],
   "source": [
    "print(f.name)"
   ]
  },
  {
   "cell_type": "code",
   "execution_count": 11,
   "id": "ce03bd3e-92ed-4fde-92ed-67bb57193ee2",
   "metadata": {},
   "outputs": [
    {
     "name": "stdout",
     "output_type": "stream",
     "text": [
      "Nashik is the third largest city of Maharashtra after Mumbai & Pune. Nashik lies in the northern part of Maharashtra state at 700 m (2,300 ft) from the mean sea level which gives it ideal temperature variation, particularly in winters. Nashik lies at altitude of 700m above sea level and has lush mountainous terrain\n"
     ]
    }
   ],
   "source": [
    "print(f.read())"
   ]
  },
  {
   "cell_type": "code",
   "execution_count": 12,
   "id": "f6bb6ed6-dc1f-40fe-aac6-2e0b7b33165b",
   "metadata": {},
   "outputs": [
    {
     "name": "stdout",
     "output_type": "stream",
     "text": [
      "r\n"
     ]
    }
   ],
   "source": [
    "print(f.mode)"
   ]
  },
  {
   "cell_type": "code",
   "execution_count": 13,
   "id": "1e81fc57-963c-4d0e-9297-b4285e0c5229",
   "metadata": {},
   "outputs": [],
   "source": [
    "f.close()"
   ]
  },
  {
   "cell_type": "code",
   "execution_count": 14,
   "id": "0e09cc29-acfc-4a62-af96-8a8ac525c59e",
   "metadata": {},
   "outputs": [
    {
     "data": {
      "text/plain": [
       "True"
      ]
     },
     "execution_count": 14,
     "metadata": {},
     "output_type": "execute_result"
    }
   ],
   "source": [
    "f.closed"
   ]
  },
  {
   "cell_type": "code",
   "execution_count": 15,
   "id": "fafb99d3-0e45-4a4d-9da0-55cc9bfd6d75",
   "metadata": {},
   "outputs": [],
   "source": [
    "# open with context manager\n",
    "with open('nashik.txt','r') as f:\n",
    "    pass"
   ]
  },
  {
   "cell_type": "code",
   "execution_count": 16,
   "id": "3301c6c7-9ade-4b67-ba0a-95f12b3aa120",
   "metadata": {},
   "outputs": [
    {
     "data": {
      "text/plain": [
       "True"
      ]
     },
     "execution_count": 16,
     "metadata": {},
     "output_type": "execute_result"
    }
   ],
   "source": [
    "f.closed"
   ]
  },
  {
   "cell_type": "code",
   "execution_count": 17,
   "id": "4d412872-be63-43b0-8a3c-216d7c6a8901",
   "metadata": {},
   "outputs": [
    {
     "name": "stdout",
     "output_type": "stream",
     "text": [
      "Nashik is the third largest city of Maharashtra after Mumbai & Pune. Nashik lies in the northern part of Maharashtra state at 700 m (2,300 ft) from the mean sea level which gives it ideal temperature variation, particularly in winters. Nashik lies at altitude of 700m above sea level and has lush mountainous terrain\n"
     ]
    }
   ],
   "source": [
    "with open('nashik.txt','r') as f:\n",
    "    content=f.read()\n",
    "    print(content)"
   ]
  },
  {
   "cell_type": "code",
   "execution_count": 19,
   "id": "141bafbf-7f3b-4c24-92a6-118578270594",
   "metadata": {},
   "outputs": [
    {
     "name": "stdout",
     "output_type": "stream",
     "text": [
      "['Nashik is the third largest city of Maharashtra after Mumbai & Pune. Nashik lies in the northern part of Maharashtra state at 700 m (2,300 ft) from the mean sea level which gives it ideal temperature variation, particularly in winters. Nashik lies at altitude of 700m above sea level and has lush mountainous terrain']\n"
     ]
    }
   ],
   "source": [
    "with open('nashik.txt','r')as f:\n",
    "    content=f.readlines()\n",
    "    print(content)"
   ]
  },
  {
   "cell_type": "code",
   "execution_count": 21,
   "id": "58a9a045-a7b9-4b96-948f-2782f694ff14",
   "metadata": {},
   "outputs": [
    {
     "name": "stdout",
     "output_type": "stream",
     "text": [
      "['Nashik is the third largest city of Maharashtra after Mumbai & Pune. Nashik lies in the northern part of Maharashtra state at 700 m (2,300 ft) from the mean sea level which gives it ideal temperature variation, particularly in winters. Nashik lies at altitude of 700m above sea level and has lush mountainous terrain']\n",
      "[]\n"
     ]
    }
   ],
   "source": [
    "with open('nashik.txt','r')as f:\n",
    "    content=f.readlines()\n",
    "    print(content)\n",
    "    content=f.readlines()\n",
    "    print(content)"
   ]
  },
  {
   "cell_type": "code",
   "execution_count": 28,
   "id": "12ae2cbd-2bcc-4c66-8150-cb655674c4d6",
   "metadata": {},
   "outputs": [
    {
     "name": "stdout",
     "output_type": "stream",
     "text": [
      "Nashik is the third largest city of Maharashtra after Mumbai & Pune. Nashik lies in the northern part of Maharashtra state at 700 m (2,300 ft) from the mean sea level which gives it ideal temperature variation, particularly in winters. Nashik lies at altitude of 700m above sea level and has lush mountainous terrain"
     ]
    }
   ],
   "source": [
    "with open('nashik.txt','r')as f:\n",
    "     for line in f:\n",
    "         print(line,end='')"
   ]
  },
  {
   "cell_type": "code",
   "execution_count": 32,
   "id": "20135bab-1428-46ce-9bc9-039a5323759c",
   "metadata": {},
   "outputs": [
    {
     "name": "stdout",
     "output_type": "stream",
     "text": [
      "Nas\n"
     ]
    }
   ],
   "source": [
    "# read the 3 character\n",
    "with open('nashik.txt','r')as f:\n",
    "    content=f.read(3)\n",
    "    print(content)"
   ]
  },
  {
   "cell_type": "code",
   "execution_count": 38,
   "id": "1e618768-1ce6-47bd-950c-7f23b45c50d9",
   "metadata": {},
   "outputs": [
    {
     "name": "stdout",
     "output_type": "stream",
     "text": [
      "Nashi*\n",
      "k is *\n",
      "the t*\n",
      "hird *\n",
      "large*\n",
      "st ci*\n",
      "ty of*\n",
      " Maha*\n",
      "rasht*\n",
      "ra af*\n",
      "ter M*\n",
      "umbai*\n",
      " & Pu*\n",
      "ne. N*\n",
      "ashik*\n",
      " lies*\n",
      " in t*\n",
      "he no*\n",
      "rther*\n",
      "n par*\n",
      "t of *\n",
      "Mahar*\n",
      "ashtr*\n",
      "a sta*\n",
      "te at*\n",
      " 700 *\n",
      "m (2,*\n",
      "300 f*\n",
      "t) fr*\n",
      "om th*\n",
      "e mea*\n",
      "n sea*\n",
      " leve*\n",
      "l whi*\n",
      "ch gi*\n",
      "ves i*\n",
      "t ide*\n",
      "al te*\n",
      "mpera*\n",
      "ture *\n",
      "varia*\n",
      "tion,*\n",
      " part*\n",
      "icula*\n",
      "rly i*\n",
      "n win*\n",
      "ters.*\n",
      " Nash*\n",
      "ik li*\n",
      "es at*\n",
      " alti*\n",
      "tude *\n",
      "of 70*\n",
      "0m ab*\n",
      "ove s*\n",
      "ea le*\n",
      "vel a*\n",
      "nd ha*\n",
      "s lus*\n",
      "h mou*\n",
      "ntain*\n",
      "ous t*\n",
      "errai*\n",
      "n*\n"
     ]
    }
   ],
   "source": [
    "# use while loop to read entier file..5 character at a time\n",
    "with open('nashik.txt','r')as f:\n",
    "    size=5\n",
    "    \n",
    "    content=f.read(size)\n",
    "    while len(content)>0:\n",
    "        print(content ,end='*')\n",
    "        print()\n",
    "        content=f.read(size)"
   ]
  },
  {
   "cell_type": "code",
   "execution_count": 41,
   "id": "ebeb2b80-6cb9-4b65-9c1a-e059ad0e7de7",
   "metadata": {},
   "outputs": [
    {
     "name": "stdout",
     "output_type": "stream",
     "text": [
      "Nashik\n",
      "Nashik\n"
     ]
    }
   ],
   "source": [
    "# in the 2nd phase start the  start again\n",
    "with open('nashik.txt','r')as f:\n",
    "    size=6\n",
    "    content=f.read(size)\n",
    "    print(content)\n",
    "    f.seek(0)\n",
    "\n",
    "    content=f.read(size)\n",
    "    print(content)"
   ]
  },
  {
   "cell_type": "code",
   "execution_count": 42,
   "id": "87b9f857-7292-4593-a205-e9664aca7efd",
   "metadata": {},
   "outputs": [],
   "source": [
    "#Write\n"
   ]
  },
  {
   "cell_type": "code",
   "execution_count": 43,
   "id": "c2f51cac-9e04-4e57-98ea-adb266a4cd7a",
   "metadata": {},
   "outputs": [],
   "source": [
    "with open('write.txt','w')as w:\n",
    "    pass"
   ]
  },
  {
   "cell_type": "code",
   "execution_count": 44,
   "id": "98969b81-08df-4df3-bcac-b1e6560a5f6d",
   "metadata": {},
   "outputs": [],
   "source": [
    "with open('write.txt','w')as w:\n",
    "    w.write('hello INDIA')"
   ]
  },
  {
   "cell_type": "code",
   "execution_count": 45,
   "id": "2c937ca5-a1ac-43f3-87b2-b552aee88140",
   "metadata": {},
   "outputs": [],
   "source": [
    "with open('write.txt','w')as w:\n",
    "    w.write('hello INDIA')\n",
    "    w.seek(0)\n",
    "    w.write('AAAA')"
   ]
  },
  {
   "cell_type": "code",
   "execution_count": 48,
   "id": "dd4cd75b-faa2-4902-8660-f9b3c70c59bb",
   "metadata": {},
   "outputs": [],
   "source": [
    "#create a new file which will be the copy of nashik.txt\n",
    "with open('nashik.txt','r')as rf:\n",
    "     with open('nashik_copy.txt','w')as w:\n",
    "         for line in rf:\n",
    "             w.write(line)\n",
    "\n",
    "     \n"
   ]
  },
  {
   "cell_type": "code",
   "execution_count": 56,
   "id": "b73475b0-0666-4653-9da5-bfeec8271f3f",
   "metadata": {},
   "outputs": [
    {
     "name": "stdout",
     "output_type": "stream",
     "text": [
      "File is not there\n"
     ]
    }
   ],
   "source": [
    "#exception handling\n",
    "try:\n",
    "    f=open('test1.txt')\n",
    "    var=var\n",
    "except FileNotFoundError:\n",
    "    print('File is not there')\n",
    "except Exception as e:\n",
    "    print(e)"
   ]
  },
  {
   "cell_type": "code",
   "execution_count": 58,
   "id": "584d4f09-8389-4fdf-95d4-0eb2db926c56",
   "metadata": {},
   "outputs": [
    {
     "name": "stdout",
     "output_type": "stream",
     "text": [
      "Nashik is the third largest city of Maharashtra after Mumbai & Pune. Nashik lies in the northern part of Maharashtra state at 700 m (2,300 ft) from the mean sea level which gives it ideal temperature variation, particularly in winters. Nashik lies at altitude of 700m above sea level and has lush mountainous terrain\n"
     ]
    }
   ],
   "source": [
    "#exception handling\n",
    "try:\n",
    "    f=open('nashik.txt')\n",
    "except FileNotFoundError:\n",
    "    print('File is not there')\n",
    "else:\n",
    "    print(f.read())\n",
    "    f.close()"
   ]
  },
  {
   "cell_type": "code",
   "execution_count": 64,
   "id": "d6d1ecd1-d6bb-4caf-8252-d019440ee0f3",
   "metadata": {},
   "outputs": [
    {
     "name": "stdout",
     "output_type": "stream",
     "text": [
      "ok\n",
      "Finally\n"
     ]
    }
   ],
   "source": [
    "#exception handling\n",
    "try:\n",
    "    f=open('nashik.txt')\n",
    "except FileNotFoundError:\n",
    "    print('File is not there')\n",
    "else:\n",
    "    print('ok')\n",
    "finally:\n",
    "    print('Finally')"
   ]
  }
 ],
 "metadata": {
  "kernelspec": {
   "display_name": "Python 3 (ipykernel)",
   "language": "python",
   "name": "python3"
  },
  "language_info": {
   "codemirror_mode": {
    "name": "ipython",
    "version": 3
   },
   "file_extension": ".py",
   "mimetype": "text/x-python",
   "name": "python",
   "nbconvert_exporter": "python",
   "pygments_lexer": "ipython3",
   "version": "3.11.7"
  }
 },
 "nbformat": 4,
 "nbformat_minor": 5
}
